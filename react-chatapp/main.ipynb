{
 "cells": [
  {
   "cell_type": "code",
   "execution_count": null,
   "metadata": {},
   "outputs": [],
   "source": [
    "import pandas as pd\n",
    "\n",
    "df = pd.read_parquet(\n",
    "    \"hf://datasets/juhoon01/shinhan_bank_data/data/train-00000-of-00001.parquet\")"
   ]
  },
  {
   "cell_type": "code",
   "execution_count": 20,
   "metadata": {},
   "outputs": [
    {
     "data": {
      "text/html": [
       "<div>\n",
       "<style scoped>\n",
       "    .dataframe tbody tr th:only-of-type {\n",
       "        vertical-align: middle;\n",
       "    }\n",
       "\n",
       "    .dataframe tbody tr th {\n",
       "        vertical-align: top;\n",
       "    }\n",
       "\n",
       "    .dataframe thead th {\n",
       "        text-align: right;\n",
       "    }\n",
       "</style>\n",
       "<table border=\"1\" class=\"dataframe\">\n",
       "  <thead>\n",
       "    <tr style=\"text-align: right;\">\n",
       "      <th></th>\n",
       "      <th>instruction</th>\n",
       "      <th>output</th>\n",
       "      <th>url</th>\n",
       "      <th>text</th>\n",
       "      <th>has</th>\n",
       "    </tr>\n",
       "  </thead>\n",
       "  <tbody>\n",
       "  </tbody>\n",
       "</table>\n",
       "</div>"
      ],
      "text/plain": [
       "Empty DataFrame\n",
       "Columns: [instruction, output, url, text, has]\n",
       "Index: []"
      ]
     },
     "execution_count": 20,
     "metadata": {},
     "output_type": "execute_result"
    }
   ],
   "source": [
    "df['has'] = df['text'].apply(lambda x: x.find('h2') != -1)\n",
    "df[df['has'] == True]"
   ]
  },
  {
   "cell_type": "code",
   "execution_count": 24,
   "metadata": {},
   "outputs": [],
   "source": [
    "import re\n",
    "\n",
    "\n",
    "def clean_text(text):\n",
    "    # Remove special tokens like <|endoftext|>, <|endoftask|=1>, etc.\n",
    "    text = re.sub(r'<\\|.*?\\|>', '', text)\n",
    "    text = re.sub(r'\\|endoftask\\|=1>', '', text)\n",
    "\n",
    "    # Remove text within angle brackets (e.g., <br>, <p>, </li>, etc.)\n",
    "    text = re.sub(r'<[^<>]*>', '', text)\n",
    "\n",
    "    # Remove incomplete tags or tokens starting with < or ending with >\n",
    "    text = re.sub(r'<[^ ]*', '', text)\n",
    "    text = re.sub(r'[^ ]*>', '', text)\n",
    "\n",
    "    # Remove special characters that may have been left behind\n",
    "    text = re.sub(r'[<>]', '', text)\n",
    "\n",
    "    # Normalize whitespace\n",
    "    text = re.sub(r'\\s+', ' ', text).strip()\n",
    "\n",
    "    return text"
   ]
  },
  {
   "cell_type": "code",
   "execution_count": 25,
   "metadata": {},
   "outputs": [
    {
     "name": "stdout",
     "output_type": "stream",
     "text": [
      "요즘 회사에서 일이 많아 스트레스를 받고 있습니다. 잠도 잘 못 자고 몸 상태가 좋지 않습니다. ### 답변: 사용자님은 최근에 업무량이 늘어나면서 일과 생활의 균형을 맞추기 어려워지고, 이로 인해 건강상태와 수면에도 문제점들이 생겨나게 되었습니다.사실 이러한 상황에서는 누구든 힘들어하고 지치며 불안감이나 우울증 등의 정신적인 증상을 경험하게 됩니다.-스트레서 관리 (1) 규칙적으로 운동하기* 매일 30분 이상 꾸준히 하세요 (예 : 걷거나 조깅) start=\n"
     ]
    }
   ],
   "source": [
    "query = \"\"\"요즘 회사에서 일이 많아 스트레스를 받고 있습니다. 잠도 잘 못 자고 몸 상태가 좋지 않습니다.\n",
    "### 답변: 사용자님은 최근에 업무량이 늘어나면서 일과 생활의 균형을 맞추기 어려워지고, 이로 인해 건강상태와 수면에도 문제점들이 생겨나게 되었습니다.<br>사실 이러한 상황에서는 누구든 힘들어하고 지치며 불안감이나 우울증 등의 정신적인 증상을 경험하게 됩니다.</p><h2>-스트레서 관리</b></li>\n",
    "<p>(1) 규칙적으로 운동하기<br>* 매일 30분 이상 꾸준히 하세요 (예 : 걷거나 조깅)<ul type=disc style='list-style-type:none; margin-left:-20px'> <ol start=\"\"\"\n",
    "\n",
    "print(clean_text(query))"
   ]
  },
  {
   "cell_type": "markdown",
   "metadata": {},
   "source": [
    "요즘 회사에서 일이 많아 스트레스를 받고 있습니다. 잠도 잘 못 자고 몸 상태가 좋지 않습니다. ### 답변: 사용자님은 최근에 업무량이 늘어나면서 일과 생활의 균형을 맞추기 어려워지고, 이로 인해 건강상태와 수면에도 문제점들이 생겨나게 되었습니다.사실 이러한 상황에서는 누구든 힘들어하고 지치며 불안감이나 우울증 등의 정신적인 증상을 경험하게 됩니다.-스트레서 관리 (1) 규칙적으로 운동하기\\* 매일 30분 이상 꾸준히 하세요 (예 : 걷거나 조깅) start=\n"
   ]
  }
 ],
 "metadata": {
  "kernelspec": {
   "display_name": "tf25",
   "language": "python",
   "name": "python3"
  },
  "language_info": {
   "codemirror_mode": {
    "name": "ipython",
    "version": 3
   },
   "file_extension": ".py",
   "mimetype": "text/x-python",
   "name": "python",
   "nbconvert_exporter": "python",
   "pygments_lexer": "ipython3",
   "version": "3.9.0"
  }
 },
 "nbformat": 4,
 "nbformat_minor": 2
}
